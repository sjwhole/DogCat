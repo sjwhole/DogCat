{
 "cells": [
  {
   "cell_type": "code",
   "execution_count": 1,
   "metadata": {},
   "outputs": [
    {
     "name": "stderr",
     "output_type": "stream",
     "text": [
      "Using TensorFlow backend.\n"
     ]
    }
   ],
   "source": [
    "import keras\n",
    "from keras.models import Sequential \n",
    "from keras.layers import Dropout, Activation, Dense \n",
    "from keras.layers import Flatten, Conv2D, MaxPooling2D\n",
    "from keras.preprocessing import image\n",
    "import numpy as np\n",
    "import matplotlib.pyplot as plt"
   ]
  },
  {
   "cell_type": "code",
   "execution_count": 2,
   "metadata": {},
   "outputs": [],
   "source": [
    "def pngarray(name):\n",
    "    x = image.load_img(name, target_size = (250, 250))\n",
    "    x = image.img_to_array(x)\n",
    "    x /= 255\n",
    "    return x"
   ]
  },
  {
   "cell_type": "code",
   "execution_count": 3,
   "metadata": {},
   "outputs": [],
   "source": [
    "mario = Sequential()"
   ]
  },
  {
   "cell_type": "code",
   "execution_count": 4,
   "metadata": {},
   "outputs": [
    {
     "name": "stdout",
     "output_type": "stream",
     "text": [
      "WARNING:tensorflow:From C:\\Anaconda3\\lib\\site-packages\\keras\\backend\\tensorflow_backend.py:4070: The name tf.nn.max_pool is deprecated. Please use tf.nn.max_pool2d instead.\n",
      "\n",
      "Model: \"sequential_1\"\n",
      "_________________________________________________________________\n",
      "Layer (type)                 Output Shape              Param #   \n",
      "=================================================================\n",
      "Con2D_1 (Conv2D)             (None, 248, 248, 32)      896       \n",
      "_________________________________________________________________\n",
      "activation_1 (Activation)    (None, 248, 248, 32)      0         \n",
      "_________________________________________________________________\n",
      "max_pooling2d_1 (MaxPooling2 (None, 124, 124, 32)      0         \n",
      "_________________________________________________________________\n",
      "dropout_1 (Dropout)          (None, 124, 124, 32)      0         \n",
      "_________________________________________________________________\n",
      "Con2D_2 (Conv2D)             (None, 122, 122, 64)      18496     \n",
      "_________________________________________________________________\n",
      "activation_2 (Activation)    (None, 122, 122, 64)      0         \n",
      "_________________________________________________________________\n",
      "max_pooling2d_2 (MaxPooling2 (None, 61, 61, 64)        0         \n",
      "_________________________________________________________________\n",
      "dropout_2 (Dropout)          (None, 61, 61, 64)        0         \n",
      "_________________________________________________________________\n",
      "flatten_1 (Flatten)          (None, 238144)            0         \n",
      "_________________________________________________________________\n",
      "dense_1 (Dense)              (None, 256)               60965120  \n",
      "_________________________________________________________________\n",
      "activation_3 (Activation)    (None, 256)               0         \n",
      "_________________________________________________________________\n",
      "dropout_3 (Dropout)          (None, 256)               0         \n",
      "_________________________________________________________________\n",
      "dense_2 (Dense)              (None, 5)                 1285      \n",
      "_________________________________________________________________\n",
      "activation_4 (Activation)    (None, 5)                 0         \n",
      "=================================================================\n",
      "Total params: 60,985,797\n",
      "Trainable params: 60,985,797\n",
      "Non-trainable params: 0\n",
      "_________________________________________________________________\n"
     ]
    }
   ],
   "source": [
    "mario.add(Conv2D(32, (3, 3), input_shape = (250, 250, 3), name = \"Con2D_1\"))\n",
    "mario.add(Activation(\"relu\"))\n",
    "mario.add(MaxPooling2D(2, 2))\n",
    "mario.add(Dropout(0.25))\n",
    "\n",
    "mario.add(Conv2D(64, (3, 3), name = \"Con2D_2\"))\n",
    "mario.add(Activation(\"relu\"))\n",
    "mario.add(MaxPooling2D(2, 2))\n",
    "mario.add(Dropout(0.25))\n",
    "\n",
    "mario.add(Flatten())\n",
    "mario.add(Dense(256))\n",
    "mario.add(Activation(\"relu\"))\n",
    "mario.add(Dropout(0.5))\n",
    "\n",
    "mario.add(Dense(5))\n",
    "mario.add(Activation(\"softmax\"))\n",
    "mario.summary()"
   ]
  },
  {
   "cell_type": "code",
   "execution_count": 5,
   "metadata": {},
   "outputs": [],
   "source": [
    "mario.compile(loss='categorical_crossentropy', optimizer='Adam', metrics=['accuracy'])"
   ]
  }
 ],
 "metadata": {
  "kernelspec": {
   "display_name": "Python 3",
   "language": "python",
   "name": "python3"
  },
  "language_info": {
   "codemirror_mode": {
    "name": "ipython",
    "version": 3
   },
   "file_extension": ".py",
   "mimetype": "text/x-python",
   "name": "python",
   "nbconvert_exporter": "python",
   "pygments_lexer": "ipython3",
   "version": "3.7.6"
  }
 },
 "nbformat": 4,
 "nbformat_minor": 4
}
